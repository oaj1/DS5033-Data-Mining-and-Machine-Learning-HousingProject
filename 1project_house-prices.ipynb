{
 "cells": [
  {
   "cell_type": "markdown",
   "metadata": {},
   "source": [
    "# Project One: House Prices\n",
    "\n",
    "Oliver James\n",
    "DS 5033 Data Mining & Machine Learning\n",
    "\n",
    "During the course of this project, you will learn to load, process, visualize and predict with housing data.\n",
    "We will work through a series of steps:\n",
    "1. Understand the Overarching Task\n",
    "2. Acquire and Load the Data\n",
    "3. Prepare the Data (for ML)\n",
    "4. Selecting and Training an ML Model\n",
    "5. Presenting an Analysis on the Solution\n",
    "\n",
    "We will consolidate this notebook into three following steps:\n",
    "\n",
    "* Broadly speaking, tasks 1-3 fall under Exploratory Data Analysis (EDA).\n",
    "* Then, task four encompulates several steps for price price prediction (the modeling side of things).\n",
    "* Finally, we have our analysis in task five.\n",
    "\n",
    "\n",
    "Due to some difficulties in acquiring a dataset on Texas and San Antonio housing, we will be relying on an\n",
    "older dataset. For the purposes of learning, the data is still relevant.\n",
    "\n",
    "For this project, the data is on Californian houses (when they were still affordable).  \n",
    "The csv is also attached to the assignment.\n",
    "\n",
    "* The dataset is available from: https://www.dcc.fc.up.pt/~ltorgo/Regression/cal_housing.html\n",
    "* You can also get the csv from: https://github.com/ageron/data/blob/main/housing/housing.csv\n",
    "* Read more here: https://www.kaggle.com/datasets/camnugent/california-housing-prices/data"
   ]
  },
  {
   "cell_type": "code",
   "execution_count": null,
   "metadata": {
    "execution": {
     "iopub.execute_input": "2024-11-04T19:11:37.818457Z",
     "iopub.status.busy": "2024-11-04T19:11:37.818032Z",
     "iopub.status.idle": "2024-11-04T19:11:37.826055Z",
     "shell.execute_reply": "2024-11-04T19:11:37.824859Z",
     "shell.execute_reply.started": "2024-11-04T19:11:37.818407Z"
    },
    "trusted": true
   },
   "outputs": [],
   "source": [
    "#install any libraries you may need\n",
    "\n",
    "#This is a test round comment on branch test round. "
   ]
  },
  {
   "cell_type": "code",
   "execution_count": null,
   "metadata": {
    "execution": {
     "iopub.execute_input": "2024-11-04T19:12:42.698868Z",
     "iopub.status.busy": "2024-11-04T19:12:42.698436Z",
     "iopub.status.idle": "2024-11-04T19:12:42.703739Z",
     "shell.execute_reply": "2024-11-04T19:12:42.702484Z",
     "shell.execute_reply.started": "2024-11-04T19:12:42.698829Z"
    },
    "trusted": true
   },
   "outputs": [],
   "source": [
    "#import all the relevant libraries here; include an inline comment for why you need them\n",
    "import pandas as pd # data processing, CSV file I/O (e.g. pd.read_csv), plotting"
   ]
  },
  {
   "cell_type": "markdown",
   "metadata": {},
   "source": [
    "### Exploratory Data Analysis (40%)\n",
    "\n",
    "The task here is to construct a big picture view of the data set.\n",
    "\n",
    "1. Download and load the dataset using pandas\n",
    "2. Print statistics - use the head, info, describe functions\n",
    "3. Visualize the data using the scatter_matrix function\n",
    "4. Visualize the data according to geospatial data (HINT: plot using coordinate data)\n",
    "5. Improve your geospatial plot: change parameters alpha, s, c, cmap. (your end result should have a colorbar with price and datapoints showing housing density with the hues indicating the price)"
   ]
  },
  {
   "cell_type": "code",
   "execution_count": null,
   "metadata": {
    "trusted": true
   },
   "outputs": [],
   "source": [
    "#use multiple code blocks to organize your code"
   ]
  },
  {
   "cell_type": "markdown",
   "metadata": {},
   "source": [
    "### Data Prep and Cleaning (20%)\n",
    "\n",
    "Here, you will work to further investigate your features.\n",
    "\n",
    "1. Check your features, are they in the correct units (median_income)\n",
    "2. Find and fix missing values\n",
    "3. Handle categorical data (HINT: OneHotEncoder)\n",
    "4. Check the scaling for data. Does it need adjustment? (HINT: StandardScaler vs MinMaxScaler)\n",
    "5. EXTRA CREDIT: how are you fixing (2)? Use SimpleImputer"
   ]
  },
  {
   "cell_type": "code",
   "execution_count": null,
   "metadata": {
    "trusted": true
   },
   "outputs": [],
   "source": [
    "#use multiple code blocks to organize your code"
   ]
  },
  {
   "cell_type": "markdown",
   "metadata": {},
   "source": [
    "### Price Prediction (20%)\n",
    "\n",
    "Now you will create and test many ML models. The idea is to play with hyperparameters and model types.\n",
    "You may find that some of your data prep needs further tweaking.\n",
    "\n",
    "Now that you understand the big picture and have an intuition on how homes may be priced, you can move on to creating a price model.\n",
    "Generally, you will want to follow the order of steps below (with 1&2 already completed):\n",
    "\n",
    "1. Create a copy of your data.\n",
    "2. On the copy, perform the data prep transformations.\n",
    "3. Create a train & test split. Generally, 80-20 splits work pretty well.\n",
    "4. Use a model you understand well. We recently learned how LinearRegression. How well does this model work?\n",
    "5. In our introductory class, we also learned about the DecisionTreeRegressor. How does this perform?\n",
    "6. EXTRA CREDIT: Model prices with the RandomForestRegressor model\n",
    "\n",
    "The main idea here is to get used to programming and modeling on real data. Report your results and aim for\n",
    "a ballpark Root Mean Squared Error less than 75K."
   ]
  },
  {
   "cell_type": "code",
   "execution_count": null,
   "metadata": {
    "trusted": true
   },
   "outputs": [],
   "source": [
    "#use multiple code blocks to organize your code"
   ]
  },
  {
   "cell_type": "markdown",
   "metadata": {},
   "source": [
    "### Analysis (20%):\n",
    "\n",
    "A critical component in science is communicating your results and explaining the reseasoning behind the results.\n",
    "A good presentation here should include the following:  \n",
    "\n",
    "1. An introduction to the dataset, any things we should know (e.g. how it was collected, common errors). \n",
    "2. What did you discover in your EDA? What do you do with missing values, outliers, etc.  \n",
    "3. What kind of distribution is the data? Is there a skew or high concentration of houses in a certain range?  \n",
    "4. What correlations were revealed in the analysis? e.g. footage and price, do they correlate positively?  \n",
    "5. Feature selection: which feature worked for price predictions and what was noise? How did you determine?\n",
    "\n",
    "The points above are for guidance; you can choose your template and structure.  \n",
    "The idea is to present a short report (no word counts) that is structured. \n",
    "structured, clear, and concise.  \n",
    "You can refer back to your figures and use external links to explain your insights."
   ]
  },
  {
   "cell_type": "markdown",
   "metadata": {},
   "source": [
    "### use this markdown cell to write a report\n",
    "\n",
    "[here]"
   ]
  },
  {
   "cell_type": "markdown",
   "metadata": {},
   "source": [
    "### Submission:\n",
    "\n",
    "You need to prepare your ipynb/jupyter notebook for grading.\n",
    "The two main tasks are ensuring all your cell outputs are present and that you convert the notebook to PDF.\n",
    "\n",
    "The instructs will vary slightly based on the platform (collab, kaggle, anaconda, etc).\n",
    "Generally, inside the notebook, you will want to:\n",
    "1. Restart & clear all cell outputs (optional, may detect buggy program control flow)\n",
    "2. Run all (must do; I need to see your code cell outputs!)\n",
    "\n",
    "Next, you need to download the notebook as a PDF. Unfortunately, exporting as PDF is a bit tricky.\n",
    "An easy work around:\n",
    "1. Download the notebook. (all platforms allow the default .ipynb export)\n",
    "2. https://onlineconvertfree.com/convert-format/ipynb-to-pdf/\n",
    "\n",
    "If you are unable to upload as a PDF, submit the .ipynb. Do NOT upload a .py file."
   ]
  },
  {
   "cell_type": "markdown",
   "metadata": {},
   "source": [
    "### Rubric:\n",
    "\n",
    "Please see the associated percentage allocations.  \n",
    "In general, ensure your code runs correctly.  Make your the PDF upload includes your code ouputs.  \n",
    "You will be given significant credit for documentation and pseudo-code.\n",
    "\n",
    "For more details, please read the rubric PDF in the assignment files."
   ]
  }
 ],
 "metadata": {
  "kaggle": {
   "accelerator": "none",
   "dataSources": [],
   "dockerImageVersionId": 30786,
   "isGpuEnabled": false,
   "isInternetEnabled": true,
   "language": "python",
   "sourceType": "notebook"
  },
  "kernelspec": {
   "display_name": "Python 3",
   "language": "python",
   "name": "python3"
  },
  "language_info": {
   "codemirror_mode": {
    "name": "ipython",
    "version": 3
   },
   "file_extension": ".py",
   "mimetype": "text/x-python",
   "name": "python",
   "nbconvert_exporter": "python",
   "pygments_lexer": "ipython3",
   "version": "3.10.14"
  }
 },
 "nbformat": 4,
 "nbformat_minor": 4
}
